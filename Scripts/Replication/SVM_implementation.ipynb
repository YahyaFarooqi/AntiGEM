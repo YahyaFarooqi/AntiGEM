{
 "cells": [
  {
   "cell_type": "code",
   "execution_count": null,
   "metadata": {},
   "outputs": [],
   "source": [
    "## Replicating Freiburg *et al*. \n",
    "\n",
    "import pandas as pd\n",
    "import numpy as np\n",
    "import numpy as np\n",
    "from sklearn import datasets\n",
    "from sklearn.svm import SVC\n",
    "from sklearn.model_selection import train_test_split\n",
    "from sklearn.metrics import accuracy_score\n",
    "from sklearn.preprocessing import StandardScaler\n"
   ]
  },
  {
   "cell_type": "code",
   "execution_count": 5,
   "metadata": {},
   "outputs": [
    {
     "name": "stdout",
     "output_type": "stream",
     "text": [
      "  Compound symbol   Compound name  MIC [µg/ml] Concentration symbol  \\\n",
      "0              Co  corallopyronin         6.60                    h   \n",
      "1              Co  corallopyronin         6.60                    l   \n",
      "2              Ri      rifampicin         0.25                    l   \n",
      "3              Ri      rifampicin         0.25                    l   \n",
      "4              Ri      rifampicin         0.25                    l   \n",
      "\n",
      "   Concentration [µg/ml]   Time symbol  Time [min]  \\\n",
      "0                 6.6000           2.0        40.0   \n",
      "1                 0.6600           1.0        10.0   \n",
      "2                 0.0025           1.0        10.0   \n",
      "3                 0.0025           1.0        10.0   \n",
      "4                 0.0025           1.0        10.0   \n",
      "\n",
      "              Experiment name a priori MOA categorization  \n",
      "0  coh2.chip26-batch21.051001                         RNA  \n",
      "1  col1.chip27-batch21.051001                         RNA  \n",
      "2  ril1.chip02-batch24.271101                         RNA  \n",
      "3  ril1.chip18-batch26.141201                         RNA  \n",
      "4  ril1.chip19-batch27.141201                         RNA  \n"
     ]
    }
   ],
   "source": [
    "# Let us begin by importing two main datasets. \n",
    "\n",
    "labelled_data = pd.read_excel('/Users/nfarooqi/AntiGEM/Data/raw/mmc1_Table.S1.xls')\n",
    "\n",
    "print(labelled_data.head())"
   ]
  },
  {
   "cell_type": "code",
   "execution_count": null,
   "metadata": {},
   "outputs": [
    {
     "name": "stdout",
     "output_type": "stream",
     "text": [
      "   Name SvL1chip71-batch41.280602 PheH1.chip37-batch47.181002  \\\n",
      "0  ybeF                    0.7445                         0.0   \n",
      "1  glpQ                    0.8471                        1.35   \n",
      "2  ybdT                      2.37                        5.92   \n",
      "3  ybxH                     0.692                        1.22   \n",
      "4  ybdM                      1.05                         1.2   \n",
      "\n",
      "  ah1.chip5.200301 ah1.chip7.200301 ah1.chip10.200301 ah2.chip6.200301  \\\n",
      "0           0.9311           0.9312            0.8119           0.8286   \n",
      "1           0.8923           0.8186            0.8766           0.7465   \n",
      "2           0.9324           0.9549            0.9361           0.9121   \n",
      "3            0.872           0.8629            0.8394             1.12   \n",
      "4           0.8892           0.8653            0.8769              1.2   \n",
      "\n",
      "  ah2.chip8.200301 ah2.chip9.200301 al2.chip9-batch8.240401  ...  \\\n",
      "0           0.9086              0.0                   0.874  ...   \n",
      "1           0.7753           0.8474                  0.7907  ...   \n",
      "2             1.01              0.0                  0.8543  ...   \n",
      "3             1.11             1.18                    1.01  ...   \n",
      "4             1.23             1.26                    1.19  ...   \n",
      "\n",
      "  etl2.chip14-batch27.101201 etl1.chip14-batch26.101201  \\\n",
      "0                        0.0                        0.0   \n",
      "1                        0.0                        0.0   \n",
      "2                        0.0                        0.0   \n",
      "3                        0.0                        0.0   \n",
      "4                        0.0                        0.0   \n",
      "\n",
      "  etl1.chipXXII-batch26.101201 etl2.chip15-batch26.101201  \\\n",
      "0                          0.0                        0.0   \n",
      "1                          0.0                        0.0   \n",
      "2                          0.0                        0.0   \n",
      "3                          0.0                        0.0   \n",
      "4                          0.0                        0.0   \n",
      "\n",
      "  etl2.chipXXIII-batch28.101201 NtH1.chip28-batch45.051102  \\\n",
      "0                           0.0                        0.0   \n",
      "1                           0.0                        0.0   \n",
      "2                           0.0                        0.0   \n",
      "3                           0.0                        0.0   \n",
      "4                           0.0                        0.0   \n",
      "\n",
      "  NtH1.chip49-batch41.071002 NtH2.chip50-batch41.071002  \\\n",
      "0                        0.0                        0.0   \n",
      "1                        0.0                        0.0   \n",
      "2                        0.0                        0.0   \n",
      "3                        0.0                        0.0   \n",
      "4                        0.0                        0.0   \n",
      "\n",
      "  NtL1.chip51-batch41.071002 NtL2.chip53-batch41.071002  \n",
      "0                        0.0                        0.0  \n",
      "1                        0.0                        0.0  \n",
      "2                        0.0                        0.0  \n",
      "3                        0.0                        0.0  \n",
      "4                        0.0                        0.0  \n",
      "\n",
      "[5 rows x 310 columns]\n"
     ]
    }
   ],
   "source": [
    "# Load abundance dataset \n",
    "\n",
    "abundance_data = pd.read_csv('/Users/nfarooqi/masters-thesis-evolvey/space-evolvey/code/evolvey_analysis/Testerosa/data/mmc1_Table.S3.txt', sep='\\t')\n",
    "\n",
    "# Replace '-' with 0 and fill NaN with 0\n",
    "abundance_data = abundance_data.replace('-', 0)\n",
    "abundance_data = abundance_data.fillna(0)\n",
    "\n",
    "# Drop the second column\n",
    "abundance_data = abundance_data.drop(abundance_data.columns[1], axis=1)\n",
    "\n",
    "# Convert columns to numeric, except the first column, handling non-numeric values\n",
    "abundance_data.iloc[:, 1:] = abundance_data.iloc[:, 1:].apply(pd.to_numeric, errors='coerce').fillna(0)\n",
    "\n",
    "# Normalize each column by the column's maximum value\n",
    "#abundance_data.iloc[:, 1:] = abundance_data.iloc[:, 1:].div(abundance_data.iloc[:, 1:].max())\n",
    "\n",
    "# Now substract all values from 1 to invert the values\n",
    "\n",
    "#abundance_data.iloc[:, 1:] = 1 - abundance_data.iloc[:, 1:]\n",
    "\n",
    "# Display the result\n",
    "print(abundance_data.head())"
   ]
  },
  {
   "cell_type": "code",
   "execution_count": null,
   "metadata": {},
   "outputs": [],
   "source": []
  }
 ],
 "metadata": {
  "kernelspec": {
   "display_name": "machineslearn",
   "language": "python",
   "name": "python3"
  },
  "language_info": {
   "codemirror_mode": {
    "name": "ipython",
    "version": 3
   },
   "file_extension": ".py",
   "mimetype": "text/x-python",
   "name": "python",
   "nbconvert_exporter": "python",
   "pygments_lexer": "ipython3",
   "version": "3.9.20"
  }
 },
 "nbformat": 4,
 "nbformat_minor": 2
}
