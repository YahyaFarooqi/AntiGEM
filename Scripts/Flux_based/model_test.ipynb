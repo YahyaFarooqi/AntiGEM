{
 "cells": [
  {
   "cell_type": "code",
   "execution_count": 21,
   "metadata": {},
   "outputs": [
    {
     "name": "stdout",
     "output_type": "stream",
     "text": [
      "Flux for ah2.chip8.200301_constrained.xml: 0.15054508340814216\n",
      "Flux for al2.chip20-batch13.240401_constrained.xml: 0.04468952813758333\n",
      "Flux for ah1.chip5.200301_constrained.xml: 0.1506549970723611\n",
      "Flux for ah2.chip6.200301_constrained.xml: 0.044034666041151534\n",
      "Flux for al2.chip9-batch8.240401_constrained.xml: 0.04459759741796328\n",
      "Flux for ah2.chip9.200301_constrained.xml: 0.09011188428457387\n",
      "Flux for ah1.chip10.200301_constrained.xml: 0.10843350326361308\n",
      "Flux for ah1.chip7.200301_constrained.xml: 0.044548154995435664\n",
      "Flux for al1.chip4-batch8.240401_constrained.xml: 0.15085843711250946\n",
      "Flux for al1.chip19-batch13.240401_constrained.xml: 0.10790621212748347\n",
      "Flux for al1.chip14-batch10.240401_constrained.xml: 0.15046996059969658\n"
     ]
    }
   ],
   "source": [
    "import os\n",
    "import cobra\n",
    "\n",
    "# Define the path to the folder with model files\n",
    "path = 'Data/intermediate/constrained_models'\n",
    "\n",
    "# Iterate over each file in the path folder\n",
    "for filename in os.listdir(path):\n",
    "    # Only proceed if the file has the correct extension\n",
    "    if filename.endswith('.xml') or filename.endswith('.sbml'):\n",
    "        # Construct the full path to the file\n",
    "        model_path = os.path.join(path, filename)\n",
    "        \n",
    "        # Load the model from the file\n",
    "        model = cobra.io.read_sbml_model(model_path)\n",
    "        \n",
    "        # Perform pFBA (parsimonious Flux Balance Analysis)\n",
    "        pfba = cobra.flux_analysis.pfba(model)\n",
    "        \n",
    "        # Print the flux of glucose exchange reaction\n",
    "        print(f\"Flux for {filename}: {pfba.fluxes.get('BIOMASS_BS_10')}\")"
   ]
  },
  {
   "cell_type": "code",
   "execution_count": null,
   "metadata": {},
   "outputs": [],
   "source": []
  }
 ],
 "metadata": {
  "kernelspec": {
   "display_name": "ml",
   "language": "python",
   "name": "python3"
  },
  "language_info": {
   "codemirror_mode": {
    "name": "ipython",
    "version": 3
   },
   "file_extension": ".py",
   "mimetype": "text/x-python",
   "name": "python",
   "nbconvert_exporter": "python",
   "pygments_lexer": "ipython3",
   "version": "3.12.7"
  }
 },
 "nbformat": 4,
 "nbformat_minor": 2
}
