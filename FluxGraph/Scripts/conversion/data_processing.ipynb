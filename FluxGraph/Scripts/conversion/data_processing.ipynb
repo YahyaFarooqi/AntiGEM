{
 "cells": [
  {
   "cell_type": "code",
   "execution_count": 20,
   "metadata": {},
   "outputs": [],
   "source": [
    "import pandas as pd\n",
    "import numpy as np\n",
    "import os\n",
    "\n",
    "# Load the data\n",
    "data1 = pd.read_excel('/Users/yahyafarooqi/Documents/Code/AntiGEM/FluxGraph/Data/raw/2024_11_12_clean_data_transformed_incl_MOA_and_compound.xlsx')\n",
    "data1[['Part_1', 'Part_2', 'Part_3']] = data1['Treatment'].str.split('.', expand=True)\n",
    "\n",
    "# Create two new folders for the output files\n",
    "output_folder_exp = '/Users/yahyafarooqi/Documents/Code/AntiGEM/FluxGraph/Data/intermediate/transposed_dataframes'\n",
    "output_folder_filled = '/Users/yahyafarooqi/Documents/Code/AntiGEM/FluxGraph/Data/intermediate/transposed_dataframes_filled'\n",
    "\n",
    "os.makedirs(output_folder_exp, exist_ok=True)\n",
    "os.makedirs(output_folder_filled, exist_ok=True)\n",
    "\n",
    "# Define rows to exclude from the dataframe after transposing\n",
    "rows_to_exclude = ['Treatment', 'a priori MOA categorization', 'compound', 'Part_1', 'Part_2', 'Part_3']\n",
    "\n",
    "# Iterate over each unique value in the 'Part_1' column\n",
    "for part_1_value in data1['Part_1'].unique():\n",
    "    # Filter rows where 'Part_1' column matches the current value\n",
    "    filtered_df = data1[data1['Part_1'] == part_1_value]\n",
    "    filtered_df.columns = filtered_df.columns.str.replace('BSU_', 'BSU', regex=False) \n",
    "    filtered_df = filtered_df.loc[:, filtered_df.columns.str.contains('BSU')]\n",
    "\n",
    "\n",
    "        # Transform numeric values using exponential function and exclude specified rows\n",
    "    filtered_df_exp = filtered_df.applymap(lambda x: np.exp(x) if np.issubdtype(type(x), np.number) and pd.notnull(x) else x)\n",
    "    transposed_df_exp = filtered_df_exp.transpose()\n",
    "    transposed_df_exp = transposed_df_exp[~transposed_df_exp.index.isin(rows_to_exclude)]\n",
    "    file_name_exp = f\"{output_folder_exp}/{part_1_value}_transposed.tsv\"\n",
    "    transposed_df_exp.to_csv(file_name_exp, header=False, sep='\\t')\n",
    "\n",
    "    # Transpose the filtered DataFrame and fill missing values\n",
    "    filtered_df_exp2 = filtered_df.applymap(lambda x: np.exp(x) if np.issubdtype(type(x), np.number) and pd.notnull(x) else x)\n",
    "    transposed_df_filled = filtered_df_exp2.transpose()\n",
    "    transposed_df_filled = transposed_df_filled.apply(lambda row: row.fillna(row.mean(skipna=True)) if row.isnull().any() else row, axis=1)\n",
    "    file_name_filled = f\"{output_folder_filled}/{part_1_value}_transposed_filled.tsv\"\n",
    "    # if row still has missing values, remove it\n",
    "    transposed_df_filled = transposed_df_filled.dropna(axis=0)\n",
    "    transposed_df_filled.to_csv(file_name_filled, header=False, sep='\\t')"
   ]
  }
 ],
 "metadata": {
  "kernelspec": {
   "display_name": "riptide",
   "language": "python",
   "name": "python3"
  },
  "language_info": {
   "codemirror_mode": {
    "name": "ipython",
    "version": 3
   },
   "file_extension": ".py",
   "mimetype": "text/x-python",
   "name": "python",
   "nbconvert_exporter": "python",
   "pygments_lexer": "ipython3",
   "version": "3.8.20"
  }
 },
 "nbformat": 4,
 "nbformat_minor": 2
}
